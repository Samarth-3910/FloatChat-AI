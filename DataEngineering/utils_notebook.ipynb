{
 "cells": [
  {
   "cell_type": "markdown",
   "id": "468e07b5",
   "metadata": {},
   "source": [
    "# utils\n",
    "Shared helper functions for ETL pipeline."
   ]
  },
  {
   "cell_type": "code",
   "execution_count": 1,
   "id": "a664a5a2",
   "metadata": {},
   "outputs": [],
   "source": [
    "import os\n",
    "import pandas as pd\n",
    "import xarray as xr\n",
    "from datetime import datetime\n",
    "from typing import Dict, List"
   ]
  },
  {
   "cell_type": "code",
   "execution_count": 2,
   "id": "e5fda0b1",
   "metadata": {},
   "outputs": [],
   "source": [
    "def get_current_date_parts():\n",
    "    now = datetime.now()\n",
    "    return str(now.year), f\"{now.month:02d}\", f\"{now.day:02d}\""
   ]
  },
  {
   "cell_type": "code",
   "execution_count": 3,
   "id": "e63c58df",
   "metadata": {},
   "outputs": [
    {
     "data": {
      "text/plain": [
       "('2025', '08', '31')"
      ]
     },
     "execution_count": 3,
     "metadata": {},
     "output_type": "execute_result"
    }
   ],
   "source": [
    "get_current_date_parts()"
   ]
  },
  {
   "cell_type": "code",
   "execution_count": 4,
   "id": "0f9143c5",
   "metadata": {},
   "outputs": [],
   "source": [
    "def build_input_path(base, year, month, folder_name):\n",
    "    return os.path.join(base, year, month, folder_name)"
   ]
  },
  {
   "cell_type": "code",
   "execution_count": 5,
   "id": "18e7ad4c",
   "metadata": {},
   "outputs": [],
   "source": [
    "def build_output_path(base, year, month, folder_name):\n",
    "    path = os.path.join(base, year, month, folder_name)\n",
    "    os.makedirs(path, exist_ok=True)\n",
    "    return path"
   ]
  },
  {
   "cell_type": "code",
   "execution_count": 6,
   "id": "7260794f",
   "metadata": {},
   "outputs": [],
   "source": [
    "def save_dataframe(df, output_folder, folder_name, file_format):\n",
    "    output_file = os.path.join(output_folder, f\"cleaned_{folder_name}.{file_format}\")\n",
    "    if file_format == 'csv':\n",
    "        df.to_csv(output_file, index=False)\n",
    "    elif file_format == 'parquet':\n",
    "        df.to_parquet(output_file, index=False)\n",
    "    else:\n",
    "        raise ValueError(f\"Unsupported file format: {file_format}\")\n",
    "    print(f\"[INFO] Saved data → {output_file}\")"
   ]
  },
  {
   "cell_type": "code",
   "execution_count": 7,
   "id": "dd0e5a88",
   "metadata": {},
   "outputs": [],
   "source": [
    "def process_single_netcdf_file(file_path, variable, date_parts, source):\n",
    "    try:\n",
    "        ds = xr.open_dataset(file_path)\n",
    "        if variable not in ds:\n",
    "            print(f\"[WARN] Missing {variable} in {file_path}\")\n",
    "            return pd.DataFrame()\n",
    "        df = ds[variable].to_dataframe().reset_index()\n",
    "        df = df.dropna(subset=[variable])\n",
    "        df['year'], df['month'], df['day'] = int(date_parts['year']), int(date_parts['month']), int(date_parts['day'])\n",
    "        df['source'] = source\n",
    "        return df\n",
    "    except Exception as e:\n",
    "        print(f\"[ERROR] {file_path}: {e}\")\n",
    "        return pd.DataFrame()\n"
   ]
  },
  {
   "cell_type": "code",
   "execution_count": 8,
   "id": "dea905ee",
   "metadata": {},
   "outputs": [],
   "source": [
    "def process_internal_folder(input_path, variable, date_parts, folder_name):\n",
    "    if not os.path.exists(input_path):\n",
    "        return pd.DataFrame()\n",
    "    dfs = []\n",
    "    for f in os.listdir(input_path):\n",
    "        if f.endswith('.nc'):\n",
    "            df = process_single_netcdf_file(os.path.join(input_path, f), variable, date_parts, folder_name)\n",
    "            if not df.empty:\n",
    "                dfs.append(df)\n",
    "    return pd.concat(dfs, ignore_index=True) if dfs else pd.DataFrame()"
   ]
  }
 ],
 "metadata": {
  "kernelspec": {
   "display_name": "Python 3",
   "language": "python",
   "name": "python3"
  },
  "language_info": {
   "codemirror_mode": {
    "name": "ipython",
    "version": 3
   },
   "file_extension": ".py",
   "mimetype": "text/x-python",
   "name": "python",
   "nbconvert_exporter": "python",
   "pygments_lexer": "ipython3",
   "version": "3.10.9"
  }
 },
 "nbformat": 4,
 "nbformat_minor": 5
}
